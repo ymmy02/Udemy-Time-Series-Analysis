{
 "cells": [
  {
   "cell_type": "code",
   "execution_count": 2,
   "metadata": {},
   "outputs": [],
   "source": [
    "from janome.tokenizer import Tokenizer\n",
    "import zipfile\n",
    "import os.path, urllib.request as request"
   ]
  },
  {
   "cell_type": "code",
   "execution_count": 3,
   "metadata": {},
   "outputs": [],
   "source": [
    "# Download data file"
   ]
  },
  {
   "cell_type": "code",
   "execution_count": 4,
   "metadata": {},
   "outputs": [],
   "source": [
    "url = \"https://www.aozora.gr.jp/cards/000081/files/462_ruby_716.zip\""
   ]
  },
  {
   "cell_type": "code",
   "execution_count": 5,
   "metadata": {},
   "outputs": [],
   "source": [
    "localfile = \"462_ruby_716.zip\""
   ]
  },
  {
   "cell_type": "code",
   "execution_count": 6,
   "metadata": {},
   "outputs": [
    {
     "name": "stdout",
     "output_type": "stream",
     "text": [
      "File Downloading\n"
     ]
    }
   ],
   "source": [
    "if not os.path.exists(localfile):\n",
    "    print(\"File Downloading\")\n",
    "    request.urlretrieve(url, localfile)"
   ]
  },
  {
   "cell_type": "code",
   "execution_count": 7,
   "metadata": {},
   "outputs": [],
   "source": [
    "zipfile = zipfile.ZipFile(localfile, 'r', )"
   ]
  },
  {
   "cell_type": "code",
   "execution_count": 8,
   "metadata": {},
   "outputs": [],
   "source": [
    "file = zipfile.open('kazeno_matasaburo.txt', 'r')"
   ]
  },
  {
   "cell_type": "code",
   "execution_count": 9,
   "metadata": {},
   "outputs": [],
   "source": [
    "bindata = file.read()"
   ]
  },
  {
   "cell_type": "code",
   "execution_count": 10,
   "metadata": {},
   "outputs": [],
   "source": [
    "textdata = bindata.decode('shift_jis')"
   ]
  },
  {
   "cell_type": "code",
   "execution_count": 12,
   "metadata": {},
   "outputs": [],
   "source": [
    "t = Tokenizer()"
   ]
  },
  {
   "cell_type": "code",
   "execution_count": 13,
   "metadata": {},
   "outputs": [],
   "source": [
    "worddic = {}"
   ]
  },
  {
   "cell_type": "code",
   "execution_count": 14,
   "metadata": {},
   "outputs": [],
   "source": [
    "lines = textdata.split('\\r\\n')"
   ]
  },
  {
   "cell_type": "code",
   "execution_count": 16,
   "metadata": {},
   "outputs": [],
   "source": [
    "for line in lines:\n",
    "    malist = t.tokenize(line)\n",
    "    for w in malist:\n",
    "        word = w.surface\n",
    "        part = w.part_of_speech\n",
    "        if part.find('名詞') < 0:\n",
    "            continue\n",
    "        if not word in worddic:\n",
    "            worddic[word] = 0\n",
    "        worddic[word] += 1"
   ]
  },
  {
   "cell_type": "code",
   "execution_count": 18,
   "metadata": {},
   "outputs": [
    {
     "name": "stdout",
     "output_type": "stream",
     "text": [
      "みんな(167)\n",
      "三郎(135)\n",
      "の(134)\n",
      "よう(114)\n",
      "一郎(91)\n",
      "嘉助(88)\n",
      "一(83)\n",
      "人(69)\n",
      "それ(62)\n",
      "先生(61)\n",
      "馬(56)\n",
      "年生(53)\n",
      "ほう(48)\n",
      "二(47)\n",
      "郎(47)\n",
      "三(44)\n",
      "風(39)\n",
      "中(39)\n",
      "助(39)\n",
      "前(37)\n",
      "耕(37)\n",
      "木(36)\n",
      "水(36)\n",
      "上(35)\n",
      "ん(33)\n",
      "草(32)\n",
      "何(32)\n",
      "顔(26)\n",
      "手(26)\n",
      "さん(25)\n",
      "ろ(25)\n",
      "ら(25)\n",
      "目(25)\n",
      "とき(25)\n",
      "向こう(24)\n",
      "そう(24)\n",
      "子(23)\n",
      "佐太郎(23)\n",
      "教室(22)\n",
      "うし(22)\n",
      "下(22)\n",
      "五(21)\n",
      "ところ(20)\n",
      "こと(20)\n",
      "おら(19)\n",
      "さ(19)\n",
      "そこ(19)\n",
      "栗(18)\n",
      "机(18)\n",
      "四(18)\n"
     ]
    }
   ],
   "source": [
    "keys = sorted(worddic.items(), key = lambda x: x[1], reverse=True)\n",
    "for word, cnt in keys[:50]:\n",
    "    print('{0}({1})\\n'.format(word, cnt), end=\"\")"
   ]
  },
  {
   "cell_type": "code",
   "execution_count": null,
   "metadata": {},
   "outputs": [],
   "source": []
  }
 ],
 "metadata": {
  "kernelspec": {
   "display_name": "Python 3",
   "language": "python",
   "name": "python3"
  },
  "language_info": {
   "codemirror_mode": {
    "name": "ipython",
    "version": 3
   },
   "file_extension": ".py",
   "mimetype": "text/x-python",
   "name": "python",
   "nbconvert_exporter": "python",
   "pygments_lexer": "ipython3",
   "version": "3.6.5"
  }
 },
 "nbformat": 4,
 "nbformat_minor": 2
}
