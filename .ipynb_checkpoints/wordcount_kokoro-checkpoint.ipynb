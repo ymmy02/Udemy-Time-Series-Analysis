{
 "cells": [
  {
   "cell_type": "code",
   "execution_count": 1,
   "metadata": {},
   "outputs": [],
   "source": [
    "from janome.tokenizer import Tokenizer\n",
    "import zipfile\n",
    "import os.path, urllib.request as request"
   ]
  },
  {
   "cell_type": "code",
   "execution_count": 2,
   "metadata": {},
   "outputs": [],
   "source": [
    "url = \"https://www.aozora.gr.jp/cards/000148/files/773_ruby_5968.zip\"\n",
    "localfile = \"773_ruby_5968.zip\""
   ]
  },
  {
   "cell_type": "code",
   "execution_count": 5,
   "metadata": {},
   "outputs": [],
   "source": [
    "if not os.path.exists(localfile):\n",
    "    request.urlretrieve(url, localfile)"
   ]
  },
  {
   "cell_type": "code",
   "execution_count": 8,
   "metadata": {},
   "outputs": [
    {
     "name": "stdout",
     "output_type": "stream",
     "text": [
      "773_ruby_5968.zip      wordcount_cocoro.ipynb\r\n"
     ]
    }
   ],
   "source": [
    "!ls"
   ]
  },
  {
   "cell_type": "code",
   "execution_count": 11,
   "metadata": {},
   "outputs": [
    {
     "ename": "AttributeError",
     "evalue": "'ZipFile' object has no attribute 'ZipFile'",
     "output_type": "error",
     "traceback": [
      "\u001b[0;31m---------------------------------------------------------------------------\u001b[0m",
      "\u001b[0;31mAttributeError\u001b[0m                            Traceback (most recent call last)",
      "\u001b[0;32m<ipython-input-11-472e9b1971ce>\u001b[0m in \u001b[0;36m<module>\u001b[0;34m()\u001b[0m\n\u001b[0;32m----> 1\u001b[0;31m \u001b[0mzip_\u001b[0m \u001b[0;34m=\u001b[0m \u001b[0mzipfile\u001b[0m\u001b[0;34m.\u001b[0m\u001b[0mZipFile\u001b[0m\u001b[0;34m(\u001b[0m\u001b[0mlocalfile\u001b[0m\u001b[0;34m,\u001b[0m \u001b[0;34m'r'\u001b[0m\u001b[0;34m)\u001b[0m\u001b[0;34m\u001b[0m\u001b[0m\n\u001b[0m\u001b[1;32m      2\u001b[0m \u001b[0mfile\u001b[0m \u001b[0;34m=\u001b[0m \u001b[0mzip_\u001b[0m\u001b[0;34m.\u001b[0m\u001b[0mopen\u001b[0m\u001b[0;34m(\u001b[0m\u001b[0;34m'kokoro.txt'\u001b[0m\u001b[0;34m,\u001b[0m \u001b[0;34m'r'\u001b[0m\u001b[0;34m)\u001b[0m\u001b[0;34m\u001b[0m\u001b[0m\n",
      "\u001b[0;31mAttributeError\u001b[0m: 'ZipFile' object has no attribute 'ZipFile'"
     ]
    }
   ],
   "source": [
    "zipfile = zipfile.ZipFile(localfile, 'r')\n"
   ]
  },
  {
   "cell_type": "code",
   "execution_count": 12,
   "metadata": {},
   "outputs": [],
   "source": [
    "file = zipfile.open('kokoro.txt','r')"
   ]
  },
  {
   "cell_type": "code",
   "execution_count": 13,
   "metadata": {},
   "outputs": [],
   "source": [
    "bindata = file.read()\n",
    "textdata = bindata.decode('shift_jis')"
   ]
  },
  {
   "cell_type": "code",
   "execution_count": 14,
   "metadata": {},
   "outputs": [],
   "source": [
    "t = Tokenizer()"
   ]
  },
  {
   "cell_type": "code",
   "execution_count": 15,
   "metadata": {},
   "outputs": [],
   "source": [
    "worddic = {}"
   ]
  },
  {
   "cell_type": "code",
   "execution_count": 16,
   "metadata": {},
   "outputs": [],
   "source": [
    "lines = textdata.split('\\r\\n')"
   ]
  },
  {
   "cell_type": "code",
   "execution_count": 17,
   "metadata": {},
   "outputs": [],
   "source": [
    "for line in lines:\n",
    "    malist = t.tokenize(line)\n",
    "    for w in malist:\n",
    "        word = w.surface\n",
    "        part = w.part_of_speech\n",
    "        if part.find('名詞') < 0:\n",
    "            continue\n",
    "        if not word in worddic:\n",
    "            worddic[word] = 0\n",
    "        worddic[word] += 1"
   ]
  },
  {
   "cell_type": "code",
   "execution_count": 19,
   "metadata": {},
   "outputs": [],
   "source": [
    "keys = sorted(worddic.items(), key = lambda x: x[1], reverse=True)"
   ]
  },
  {
   "cell_type": "code",
   "execution_count": 30,
   "metadata": {
    "scrolled": true
   },
   "outputs": [
    {
     "name": "stdout",
     "output_type": "stream",
     "text": [
      "私 (2700)\n",
      "の (1483)\n",
      "先生 (600)\n",
      "事 (576)\n",
      "よう (523)\n",
      "それ (409)\n",
      "もの (393)\n",
      "人 (390)\n",
      "奥さん (388)\n",
      "時 (379)\n",
      "彼 (314)\n",
      "父 (272)\n",
      "自分 (264)\n",
      "二 (263)\n",
      "中 (259)\n",
      "何 (251)\n",
      "一 (249)\n",
      "ん (241)\n",
      "うち (238)\n",
      "い (234)\n",
      "十 (201)\n",
      "方 (200)\n",
      "あなた (187)\n",
      "母 (171)\n",
      "前 (168)\n",
      "お嬢さん (166)\n",
      "上 (156)\n",
      "気 (150)\n",
      "今 (150)\n",
      "顔 (135)\n",
      "め (133)\n",
      "言葉 (128)\n",
      "ため (126)\n",
      "字 (124)\n",
      "三 (123)\n",
      "日 (123)\n",
      "眼 (123)\n",
      "そこ (120)\n",
      "心 (116)\n",
      "＃ (115)\n",
      "下げ (113)\n",
      "見出し (113)\n",
      "［＃「 (113)\n",
      "５ (110)\n",
      "妻 (108)\n",
      "口 (107)\n",
      "通り (105)\n",
      "お (105)\n",
      "家 (96)\n",
      "間 (93)\n"
     ]
    }
   ],
   "source": [
    "for word, cnt in keys[:50]:\n",
    "    print(\"{0} ({1})\".format(word, cnt))"
   ]
  },
  {
   "cell_type": "code",
   "execution_count": null,
   "metadata": {},
   "outputs": [],
   "source": []
  }
 ],
 "metadata": {
  "kernelspec": {
   "display_name": "Python 3",
   "language": "python",
   "name": "python3"
  },
  "language_info": {
   "codemirror_mode": {
    "name": "ipython",
    "version": 3
   },
   "file_extension": ".py",
   "mimetype": "text/x-python",
   "name": "python",
   "nbconvert_exporter": "python",
   "pygments_lexer": "ipython3",
   "version": "3.6.5"
  }
 },
 "nbformat": 4,
 "nbformat_minor": 2
}
